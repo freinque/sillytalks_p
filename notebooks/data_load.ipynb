{
 "cells": [
  {
   "cell_type": "code",
   "execution_count": null,
   "metadata": {
    "collapsed": true,
    "scrolled": true
   },
   "outputs": [],
   "source": [
    "import sillytalks.transform.wav_to_pickles\n",
    "reload( sillytalks.transform.wav_to_pickles )\n",
    "\n",
    "base_path = '/home/freinque/cours/voice/sillytalks/data/zip/train/audio/'\n",
    "target_path = '/home/freinque/cours/voice/sillytalks/data/pickles/train/'\n",
    "\n",
    "sillytalks.transform.wav_to_pickles.process(base_path, target_path)"
   ]
  },
  {
   "cell_type": "code",
   "execution_count": null,
   "metadata": {
    "collapsed": true
   },
   "outputs": [],
   "source": [
    "# verifs\n",
    "\n",
    "## sr seems constant to 16k per s\n",
    "\n",
    "import pickle\n",
    "import glob\n",
    "import matplotlib.pyplot as plt\n",
    "%matplotlib inline\n",
    "\n",
    "files = glob.glob('/home/freinque/cours/voice/sillytalks/data/pickles/train/*.p')\n",
    "\n",
    "for f in files[:10]:\n",
    "    print f\n",
    "    test = pickle.load( open(f, 'rb'))\n",
    "\n",
    "    print len(test)\n",
    "\n",
    "    plt.plot(range(len(test)), test)\n",
    "    plt.show()"
   ]
  },
  {
   "cell_type": "code",
   "execution_count": null,
   "metadata": {},
   "outputs": [],
   "source": [
    "import sillytalks.transform.wav_to_pickles\n",
    "reload( sillytalks.transform.wav_to_pickles )\n",
    "\n",
    "base_path = '/home/freinque/cours/voice/sillytalks/data/zip/test/audio/'\n",
    "target_path = '/home/freinque/cours/voice/sillytalks/data/pickles/test/'\n",
    "\n",
    "sillytalks.transform.wav_to_pickles.make_pickles(base_path, target_path, 'test')"
   ]
  },
  {
   "cell_type": "code",
   "execution_count": null,
   "metadata": {
    "collapsed": true
   },
   "outputs": [],
   "source": []
  }
 ],
 "metadata": {
  "kernelspec": {
   "display_name": "Python 2",
   "language": "python",
   "name": "python2"
  },
  "language_info": {
   "codemirror_mode": {
    "name": "ipython",
    "version": 2
   },
   "file_extension": ".py",
   "mimetype": "text/x-python",
   "name": "python",
   "nbconvert_exporter": "python",
   "pygments_lexer": "ipython2",
   "version": "2.7.13"
  }
 },
 "nbformat": 4,
 "nbformat_minor": 2
}
